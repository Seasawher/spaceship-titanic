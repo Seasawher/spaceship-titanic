{
 "cells": [
  {
   "attachments": {},
   "cell_type": "markdown",
   "metadata": {},
   "source": [
    "# Spaceship Titanic"
   ]
  },
  {
   "attachments": {},
   "cell_type": "markdown",
   "metadata": {},
   "source": [
    "## 全体像をつかむ\n",
    "\n",
    "宇宙船タイタニック号は, 1カ月前に就航した恒星間旅客船である．約13,000人の乗客を乗せたこの船は，太陽系からの移住者を，近くの星の周りを回る3つの新しく居住可能な太陽系外惑星に運ぶ処女航海に出発した．\n",
    "\n",
    "宇宙船タイタニックは，ケンタウルス座アルファ星を周回し，最初の目的地であるカンクリ星55番地へ向かう途中，砂煙の中に隠れていた時空の異変に遭遇した．残念なことに，この船は1000年前のタイタニック号と同じ運命をたどった．船は無事だったものの，乗客の半数近くが異次元に飛ばされてしまったのだ！\n",
    "\n",
    "救助隊を助け，失われた乗客を取り戻すために，宇宙船の破損したコンピューターシステムから回収された記録をもとに，どの乗客が異常によって運ばれたかを予測することに挑戦してください．\n",
    "\n",
    "彼らを救い，歴史を変えることに貢献しましょう！"
   ]
  },
  {
   "attachments": {},
   "cell_type": "markdown",
   "metadata": {},
   "source": [
    "## データを入手する"
   ]
  },
  {
   "cell_type": "code",
   "execution_count": 4,
   "metadata": {},
   "outputs": [],
   "source": [
    "# This Python 3 environment comes with many helpful analytics libraries installed\n",
    "# It is defined by the kaggle/python Docker image: https://github.com/kaggle/docker-python\n",
    "# For example, here's several helpful packages to load\n",
    "\n",
    "import numpy as np # linear algebra\n",
    "import pandas as pd # data processing, CSV file I/O (e.g. pd.read_csv)\n",
    "\n",
    "# Input data files are available in the read-only \"../input/\" directory\n",
    "# For example, running this (by clicking run or pressing Shift+Enter) will list all files under the input directory\n",
    "\n",
    "# You can write up to 20GB to the current directory (/kaggle/working/) that gets preserved as output when you create a version using \"Save & Run All\" \n",
    "# You can also write temporary files to /kaggle/temp/, but they won't be saved outside of the current session"
   ]
  },
  {
   "cell_type": "code",
   "execution_count": 3,
   "metadata": {},
   "outputs": [
    {
     "name": "stdout",
     "output_type": "stream",
     "text": [
      "c:\\Users\\11325\\kaggle\\spaceship-titanic\\src\n"
     ]
    }
   ],
   "source": [
    "import pathlib\n",
    "\n",
    "# 訓練セットのデータを読み込む\n",
    "train_data_path = pathlib.Path('../input/spaceship-titanic/train.csv')\n",
    "train_data = pd.read_csv(train_data_path)"
   ]
  },
  {
   "cell_type": "code",
   "execution_count": null,
   "metadata": {},
   "outputs": [],
   "source": []
  }
 ],
 "metadata": {
  "kernelspec": {
   "display_name": "Python 3",
   "language": "python",
   "name": "python3"
  },
  "language_info": {
   "codemirror_mode": {
    "name": "ipython",
    "version": 3
   },
   "file_extension": ".py",
   "mimetype": "text/x-python",
   "name": "python",
   "nbconvert_exporter": "python",
   "pygments_lexer": "ipython3",
   "version": "3.10.11"
  },
  "orig_nbformat": 4
 },
 "nbformat": 4,
 "nbformat_minor": 2
}
